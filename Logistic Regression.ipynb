{
 "cells": [
  {
   "cell_type": "code",
   "execution_count": 1,
   "id": "9c71e5fa",
   "metadata": {},
   "outputs": [],
   "source": [
    "import matplotlib.pyplot as plt\n",
    "import numpy as np"
   ]
  },
  {
   "cell_type": "code",
   "execution_count": 2,
   "id": "682eb70a",
   "metadata": {},
   "outputs": [],
   "source": [
    "class LinearModel(object):\n",
    "    \"\"\"Base class for linear models.\"\"\"\n",
    "\n",
    "    def __init__(self, eps=1e-5,\n",
    "                 theta=None):\n",
    "        \"\"\"\n",
    "        Args:\n",
    "            eps: Threshold for determining convergence.\n",
    "            theta: Initial guess for theta. If None, use your own default vector.\n",
    "        \"\"\"\n",
    "        self.theta = theta\n",
    "        self.eps = eps\n",
    "        \n",
    "def add_intercept(x):\n",
    "    \"\"\"Add intercept to matrix x.\n",
    "\n",
    "    Args:\n",
    "        x: a matrix.\n",
    "\n",
    "    Returns:\n",
    "        New matrix same as x with 1's in the 0th column.\n",
    "    \"\"\"\n",
    "    new_x = np.empty((x.shape[0], x.shape[1] + 1), dtype=x.dtype)\n",
    "    new_x[:, 0] = 1\n",
    "    new_x[:, 1:] = x\n",
    "\n",
    "    return new_x\n",
    "\n",
    "\n",
    "def load_dataset(csv_path, label_col='y', add_intercept=False):\n",
    "    \"\"\"Load dataset from a CSV file.\n",
    "\n",
    "    Args:\n",
    "         csv_path: Path to CSV file containing dataset.\n",
    "         label_col: Name of column to use as labels (should be 'y' or 'l').\n",
    "         add_intercept: Add an intercept entry to x-values.\n",
    "\n",
    "    Returns:\n",
    "        xs: Numpy array of x-values (inputs).\n",
    "        ys: Numpy array of y-values (labels).\n",
    "    \"\"\"\n",
    "\n",
    "    def add_intercept_fn(x):\n",
    "        global add_intercept\n",
    "        return add_intercept(x)\n",
    "\n",
    "    # Validate label_col argument\n",
    "    allowed_label_cols = ('y', 't')\n",
    "    if label_col not in allowed_label_cols:\n",
    "        raise ValueError('Invalid label_col: {} (expected {})'\n",
    "                         .format(label_col, allowed_label_cols))\n",
    "\n",
    "    # Load headers\n",
    "    with open(csv_path, 'r') as csv_fh:\n",
    "        headers = csv_fh.readline().strip().split(',')\n",
    "\n",
    "    # Load features and labels\n",
    "    x_cols = [i for i in range(len(headers)) if headers[i].startswith('x')]\n",
    "    l_cols = [i for i in range(len(headers)) if headers[i] == label_col]\n",
    "    inputs = np.loadtxt(csv_path, delimiter=',', skiprows=1, usecols=x_cols)\n",
    "    labels = np.loadtxt(csv_path, delimiter=',', skiprows=1, usecols=l_cols)\n",
    "\n",
    "    if inputs.ndim == 1:\n",
    "        inputs = np.expand_dims(inputs, -1)\n",
    "\n",
    "    if add_intercept:\n",
    "        inputs = add_intercept_fn(inputs)\n",
    "    return inputs, labels"
   ]
  },
  {
   "cell_type": "code",
   "execution_count": 3,
   "id": "8f820a52",
   "metadata": {},
   "outputs": [],
   "source": [
    "ds1_train_set_path = \"C:/Users/acer/Desktop/Data_Structures_And_Algorithms/ds1_train.csv\"\n",
    "ds1_valid_set_path = \"C:/Users/acer/Desktop/Data_Structures_And_Algorithms/ds1_valid.csv\""
   ]
  },
  {
   "cell_type": "code",
   "execution_count": 4,
   "id": "f17f3858",
   "metadata": {},
   "outputs": [],
   "source": [
    "x_train, y_train = load_dataset(ds1_train_set_path, add_intercept=True)\n",
    "x_valid, y_valid = load_dataset(ds1_valid_set_path, add_intercept=True)"
   ]
  },
  {
   "cell_type": "code",
   "execution_count": 5,
   "id": "fdfb3827",
   "metadata": {},
   "outputs": [
    {
     "data": {
      "image/png": "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\n",
      "text/plain": [
       "<Figure size 432x288 with 1 Axes>"
      ]
     },
     "metadata": {
      "needs_background": "light"
     },
     "output_type": "display_data"
    }
   ],
   "source": [
    "plt.xlabel('x1');\n",
    "plt.ylabel('x2');\n",
    "\n",
    "plt.plot(x_train[(y_train == 1), -2], x_train[(y_train == 1), -1], 'bx', linewidth=2);\n",
    "plt.plot(x_train[(y_train == 0), -2], x_train[(y_train == 0), -1], 'go', linewidth=2);"
   ]
  },
  {
   "cell_type": "code",
   "execution_count": 6,
   "id": "b6079a47",
   "metadata": {},
   "outputs": [],
   "source": [
    "class LogisticRegression(LinearModel):\n",
    "    \"\"\"Logistic regression with Newton's Method as the solver.\n",
    "\n",
    "    Example usage:\n",
    "        > log_reg = LogisticRegression()\n",
    "        > log_reg.fit(x_train, y_train)\n",
    "        > log_reg.predict(x_eval)\n",
    "    \"\"\"\n",
    "\n",
    "    def fit(self, x, y):\n",
    "        \"\"\"Run Newton's Method to minimize J(theta) for logistic regression.\n",
    "\n",
    "        :param x: Training example inputs. Shape (m, n).\n",
    "        :param y: Training example labels. Shape (m,).\n",
    "        \"\"\"\n",
    "\n",
    "        def h(theta, x):\n",
    "            \"\"\"Vectorized implementation of h_theta(x) = 1 / (1 + exp(-theta^T x)).\n",
    "\n",
    "            :param theta: Shape (n,).\n",
    "            :param x:     All training examples of shape (m, n).\n",
    "            :return:      The hypothesis for all training examples. Shape (m,).\n",
    "            \"\"\"\n",
    "            return 1 / (1 + np.exp(-np.dot(x, theta)))\n",
    "\n",
    "        def gradient(theta, x, y):\n",
    "            \"\"\"Vectorized implementation of the gradient of J(theta).\n",
    "\n",
    "            :param theta: Shape (n,).\n",
    "            :param x:     All training examples of shape (m, n).\n",
    "            :param y:     All labels of shape (m,).\n",
    "            :return:      The gradient of shape (n,).\n",
    "            \"\"\"\n",
    "            m, _ = x.shape\n",
    "            return -1 / m * np.dot(x.T, y - h(theta, x))\n",
    "\n",
    "        def hessian(theta, x):\n",
    "            \"\"\"Vectorized implementation of the Hessian of J(theta).\n",
    "\n",
    "            :param theta: Shape (n,).\n",
    "            :param x:     All training examples of shape (m, n).\n",
    "            :return:      The Hessian of shape (n, n).\n",
    "            \"\"\"\n",
    "            m, _ = x.shape\n",
    "            print(h(theta, x))\n",
    "            h_theta_x = np.reshape(h(theta, x), (-1, 1))\n",
    "            print(h_theta_x)\n",
    "            return 1 / m * np.dot(x.T, h_theta_x * (1 - h_theta_x) * x)\n",
    "            \n",
    "\n",
    "        def next_theta(theta, x, y):\n",
    "            \"\"\"The next theta updated by Newton's Method.\n",
    "\n",
    "            :param theta: Shape (n,).\n",
    "            :return:      The updated theta of shape (n,).\n",
    "            \"\"\"\n",
    "            return theta - np.dot(np.linalg.inv(hessian(theta, x)), gradient(theta, x, y))\n",
    "\n",
    "        m, n = x.shape\n",
    "        \n",
    "        # Initialize theta\n",
    "        if self.theta is None:\n",
    "            self.theta = np.zeros(n)\n",
    "\n",
    "        # Update theta using Newton's Method\n",
    "        old_theta = self.theta\n",
    "        new_theta = next_theta(self.theta, x, y)\n",
    "        while np.linalg.norm(new_theta - old_theta, 1) >= self.eps:\n",
    "            old_theta = new_theta\n",
    "            new_theta = next_theta(old_theta, x, y)\n",
    "\n",
    "        self.theta = new_theta\n",
    "\n",
    "\n",
    "    def predict(self, x):\n",
    "        \"\"\"Make a prediction given new inputs x.\n",
    "\n",
    "        :param x: Inputs of shape (m, n).\n",
    "        :return:  Outputs of shape (m,).\n",
    "        \"\"\"\n",
    "\n",
    "        return x @ self.theta >= 0"
   ]
  },
 {
   "source": [
    "log_reg = LogisticRegression()\n",
    "log_reg.fit(x_train, y_train)"
   ]
  },
  {
   "cell_type": "code",
   "execution_count": 8,
   "id": "0ba2cf4a",
   "metadata": {},
   "outputs": [
    {
     "data": {
      "text/plain": [
       "[<matplotlib.lines.Line2D at 0x161b0194c10>]"
      ]
     },
     "execution_count": 8,
     "metadata": {},
     "output_type": "execute_result"
    },
    {
     "data": {
      "image/png": "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\n",
      "text/plain": [
       "<Figure size 432x288 with 1 Axes>"
      ]
     },
     "metadata": {
      "needs_background": "light"
     },
     "output_type": "display_data"
    }
   ],
{
   "source": [
    "plt.plot(x_train[(y_train == 1), -2], x_train[(y_train == 1), -1], 'go', linewidth = 2)\n",
    "plt.plot(x_train[(y_train == 0), -2], x_train[(y_train == 0), -1], 'bx', linewidth = 2)\n",
    "plt.plot()\n",
    "\n",
    "x1 = np.arange(min(x_train[:, -2]), max(x_train[:, -2]), 0.01)\n",
    "x2 = -(log_reg.theta[0] / log_reg.theta[2] * 1 + log_reg.theta[1] / log_reg.theta[2] * x1)\n",
    "plt.plot(x1, x2, c='red', linewidth=2)"
   ]
  },
  {
   "cell_type": "code",
   "execution_count": 9,
   "id": "184070d2",
   "metadata": {},
   "outputs": [
    {
     "name": "stdout",
     "output_type": "stream",
     "text": [
      "Theta is:  [-6.26018491  2.47707251 -0.0299125 ]\n",
      "The accuracy on training set is:  0.8825\n"
     ]
    }
   ],
   "source": [
    "print(\"Theta is: \", log_reg.theta)\n",
    "print(\"The accuracy on training set is: \", np.mean(log_reg.predict(x_train) == y_train))"
   ]
  },
  {
   "cell_type": "code",
   "execution_count": 10,
   "id": "56190c04",
   "metadata": {},
   "outputs": [
    {
     "name": "stdout",
     "output_type": "stream",
     "text": [
      "Theta is:  [-6.26018491  2.47707251 -0.0299125 ]\n",
      "The accuracy on Training set is:  0.8825\n"
     ]
    }
   ],
   "source": [
    "print(\"Theta is: \", log_reg.theta)\n",
    "print(\"The accuracy on Training set is: \", np.mean(log_reg.predict(x_train) == y_train))"
   ]
  },
  {
   "cell_type": "code",
   "execution_count": 11,
   "id": "3ff9e7b5",
   "metadata": {},
   "outputs": [
    {
     "data": {
      "text/plain": [
       "[<matplotlib.lines.Line2D at 0x161b01fe790>]"
      ]
     },
     "execution_count": 11,
     "metadata": {},
     "output_type": "execute_result"
    },
    {
     "data": {
      "image/png": "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\n",
      "text/plain": [
       "<Figure size 432x288 with 1 Axes>"
      ]
     },
     "metadata": {
      "needs_background": "light"
     },
     "output_type": "display_data"
    }
   ],
   "source": [
    "plt.plot(x_valid[(y_valid == 1), -2], x_valid[(y_valid == 1), -1], 'go', linewidth = 2)\n",
    "plt.plot(x_valid[(y_valid == 0), -2], x_valid[(y_valid == 0), -1], 'bx', linewidth = 2)\n",
    "plt.plot()\n",
    "\n",
    "x1 = np.arange(min(x_valid[:, -2]), max(x_valid[:, -2]), 0.01)\n",
    "x2 = -(log_reg.theta[0] / log_reg.theta[2] * 1 + log_reg.theta[1] / log_reg.theta[2] * x1)\n",
    "plt.plot(x1, x2, c='red', linewidth=2)"
   ]
  },
  {
   "cell_type": "code",
   "execution_count": 12,
   "id": "9294c482",
   "metadata": {},
   "outputs": [
    {
     "name": "stdout",
     "output_type": "stream",
     "text": [
      "The accuracy on Validating set is:  0.9\n"
     ]
    }
   ],
   "source": [
    "print(\"The accuracy on Validating set is: \", np.mean(log_reg.predict(x_valid) == y_valid))"
   ]
  }
 ],
 "metadata": {
  "kernelspec": {
   "display_name": "Python 3 (ipykernel)",
   "language": "python",
   "name": "python3"
  },
  "language_info": {
   "codemirror_mode": {
    "name": "ipython",
    "version": 3
   },
   "file_extension": ".py",
   "mimetype": "text/x-python",
   "name": "python",
   "nbconvert_exporter": "python",
   "pygments_lexer": "ipython3",
   "version": "3.9.12"
  }
 },
 "nbformat": 4,
 "nbformat_minor": 5
}
