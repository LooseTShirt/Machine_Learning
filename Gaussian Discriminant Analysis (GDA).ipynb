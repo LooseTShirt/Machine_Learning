{
 "cells": [
  {
   "cell_type": "code",
   "execution_count": 1,
   "id": "d8e32775",
   "metadata": {},
   "outputs": [],
   "source": [
    "import matplotlib.pyplot as plt\n",
    "import numpy as np"
   ]
  },
  {
   "cell_type": "code",
   "execution_count": 2,
   "id": "3aae3fce",
   "metadata": {},
   "outputs": [],
   "source": [
    "class LinearModel(object):\n",
    "    \"\"\"Base class for linear models.\"\"\"\n",
    "\n",
    "    def __init__(self, eps=1e-5,\n",
    "                 theta=None):\n",
    "        \"\"\"\n",
    "        Args:\n",
    "            eps: Threshold for determining convergence.\n",
    "            theta: Initial guess for theta. If None, use your own default vector.\n",
    "        \"\"\"\n",
    "        self.theta = theta\n",
    "        self.eps = eps\n",
    "        \n",
    "def add_intercept(x):\n",
    "    \"\"\"Add intercept to matrix x.\n",
    "\n",
    "    Args:\n",
    "        x: a matrix.\n",
    "\n",
    "    Returns:\n",
    "        New matrix same as x with 1's in the 0th column.\n",
    "    \"\"\"\n",
    "    new_x = np.empty((x.shape[0], x.shape[1] + 1), dtype=x.dtype)\n",
    "    new_x[:, 0] = 1\n",
    "    new_x[:, 1:] = x\n",
    "\n",
    "    return new_x\n",
    "\n",
    "\n",
    "def load_dataset(csv_path, label_col='y', add_intercept=False):\n",
    "    \"\"\"Load dataset from a CSV file.\n",
    "\n",
    "    Args:\n",
    "         csv_path: Path to CSV file containing dataset.\n",
    "         label_col: Name of column to use as labels (should be 'y' or 'l').\n",
    "         add_intercept: Add an intercept entry to x-values.\n",
    "\n",
    "    Returns:\n",
    "        xs: Numpy array of x-values (inputs).\n",
    "        ys: Numpy array of y-values (labels).\n",
    "    \"\"\"\n",
    "\n",
    "    def add_intercept_fn(x):\n",
    "        global add_intercept\n",
    "        return add_intercept(x)\n",
    "\n",
    "    # Validate label_col argument\n",
    "    allowed_label_cols = ('y', 't')\n",
    "    if label_col not in allowed_label_cols:\n",
    "        raise ValueError('Invalid label_col: {} (expected {})'\n",
    "                         .format(label_col, allowed_label_cols))\n",
    "\n",
    "    # Load headers\n",
    "    with open(csv_path, 'r') as csv_fh:\n",
    "        headers = csv_fh.readline().strip().split(',')\n",
    "\n",
    "    # Load features and labels\n",
    "    x_cols = [i for i in range(len(headers)) if headers[i].startswith('x')]\n",
    "    l_cols = [i for i in range(len(headers)) if headers[i] == label_col]\n",
    "    inputs = np.loadtxt(csv_path, delimiter=',', skiprows=1, usecols=x_cols)\n",
    "    labels = np.loadtxt(csv_path, delimiter=',', skiprows=1, usecols=l_cols)\n",
    "\n",
    "    if inputs.ndim == 1:\n",
    "        inputs = np.expand_dims(inputs, -1)\n",
    "\n",
    "    if add_intercept:\n",
    "        inputs = add_intercept_fn(inputs)\n",
    "    return inputs, labels"
   ]
  },
  {
   "cell_type": "code",
   "execution_count": 3,
   "id": "aa5e44e2",
   "metadata": {},
   "outputs": [],
   "source": [
    "ds2_train_set_path = \"C:/Users/acer/Desktop/Data_Structures_And_Algorithms/ds2_train.csv\"\n",
    "ds2_valid_set_path = \"C:/Users/acer/Desktop/Data_Structures_And_Algorithms/ds2_valid.csv\""
   ]
  },
  {
   "cell_type": "code",
   "execution_count": 4,
   "id": "ea6e1b4e",
   "metadata": {},
   "outputs": [],
   "source": [
    "x_train, y_train = load_dataset(ds2_train_set_path)\n",
    "x_valid, y_valid = load_dataset(ds2_valid_set_path)"
   ]
  },
  {
   "cell_type": "code",
   "execution_count": 5,
   "id": "fa2404af",
   "metadata": {},
   "outputs": [],
   "source": [
    "class GDA(LinearModel):\n",
    "    \"\"\"Gaussian Discriminant Analysis.\n",
    "\n",
    "    Example usage:\n",
    "        > clf = GDA()\n",
    "        > clf.fit(x_train, y_train)\n",
    "        > clf.predict(x_eval)\n",
    "    \"\"\"\n",
    "\n",
    "    def fit(self, x, y):\n",
    "        \"\"\"Fit a GDA model to training set given by x and y.\n",
    "\n",
    "        :param x: Training example inputs. Shape (m, n).\n",
    "        :param y: Training example labels. Shape (m,).\n",
    "        \"\"\"\n",
    "        m, n = x.shape\n",
    "        \n",
    "        phi = np.sum(y) / m\n",
    "        mu_0 = np.dot(x.T, 1 - y) / np.sum(1 - y)\n",
    "        mu_1 = np.dot(x.T, y) / np.sum(y)\n",
    "\n",
    "        # Reshape y to compute pairwise product with mu\n",
    "        y_reshaped = np.reshape(y, (m, -1))\n",
    "\n",
    "        # Matrix comprises mu_0 and mu_1 based on the value of y. Shape(m, n)\n",
    "        mu_x = y_reshaped * mu_0 + (1 - y_reshaped) * mu_1\n",
    "        \n",
    "        x_centered = (x - mu_x)\n",
    "        sigma = np.dot(x_centered.T, x_centered) / m\n",
    "        sigma_inv = np.linalg.inv(sigma)\n",
    "\n",
    "        # Compute theta and theta_0 according to the conclusion from part (c)\n",
    "        theta = np.dot(sigma_inv, mu_1 - mu_0)\n",
    "        theta_0 = 1 / 2 * mu_0 @ sigma_inv @ mu_0 - 1 / 2 * mu_1 @ sigma_inv @ mu_1 - np.log((1 - phi) / phi)\n",
    "        \n",
    "        self.theta = np.insert(theta, 0, theta_0)\n",
    "\n",
    "    def predict(self, x):\n",
    "        \"\"\"Make a prediction given new inputs x.\n",
    "\n",
    "        :param x: Inputs of shape (m, n).\n",
    "        :return:  Outputs of shape (m,).\n",
    "        \"\"\"\n",
    "\n",
    "        # Add x_0 = 1 convention to make predictions using theta^T x >= 0\n",
    "        return add_intercept(x) @ self.theta >= 0"
   ]
  },
  {
   "cell_type": "code",
   "execution_count": 6,
   "id": "f61b8f41",
   "metadata": {},
   "outputs": [],
   "source": [
    "gda = GDA()\n",
    "gda.fit(x_train, y_train)"
   ]
  },
  {
   "cell_type": "code",
   "execution_count": 7,
   "id": "d514279c",
   "metadata": {},
   "outputs": [
    {
     "data": {
      "text/plain": [
       "<matplotlib.legend.Legend at 0x26d93ba84c0>"
      ]
     },
     "execution_count": 7,
     "metadata": {},
     "output_type": "execute_result"
    },
    {
     "data": {
      "image/png": "[encoded data removed]",
      "text/plain": [
       "<Figure size 432x288 with 1 Axes>"
      ]
     },
     "metadata": {
      "needs_background": "light"
     },
     "output_type": "display_data"
    }
   ],
   "source": [
    "plt.plot(x_train[(y_train == 1), -2], x_train[(y_train == 1), -1], 'go', linewidth = 2)\n",
    "plt.plot(x_train[(y_train == 0), -2], x_train[(y_train == 0), -1], 'bx', linewidth = 2)\n",
    "plt.plot()\n",
    "\n",
    "theta_2 = gda.theta\n",
    "\n",
    "x1 = np.arange(min(x_train[:, -2]), max(x_train[:, -2]), 0.01)\n",
    "x2 = -(theta_2[0] / theta_2[2] + theta_2[1] / theta_2[2] * x1)\n",
    "plt.plot(x1, x2, c='black', label=\"GDA\", linewidth=2)\n",
    "\n",
    "# Add labels, legend and title\n",
    "plt.xlabel('x1')\n",
    "plt.ylabel('x2')\n",
    "plt.legend(loc=\"upper left\")"
   ]
  },
  {
   "cell_type": "code",
   "execution_count": 8,
   "id": "9b6a6829",
   "metadata": {},
   "outputs": [
    {
     "name": "stdout",
     "output_type": "stream",
     "text": [
      "The accuracy on Training set 1 of GDA is:  0.91375\n"
     ]
    }
   ],
   "source": [
    "print(\"The accuracy on Training set 1 of GDA is: \", np.mean(gda.predict(x_train) == y_train))"
   ]
  },
  {
   "cell_type": "code",
   "execution_count": 9,
   "id": "016bef95",
   "metadata": {},
   "outputs": [
    {
     "data": {
      "text/plain": [
       "<matplotlib.legend.Legend at 0x26d93cb1820>"
      ]
     },
     "execution_count": 9,
     "metadata": {},
     "output_type": "execute_result"
    },
    {
     "data": {
      "image/png": "[encoded data removed]",
      "text/plain": [
       "<Figure size 432x288 with 1 Axes>"
      ]
     },
     "metadata": {
      "needs_background": "light"
     },
     "output_type": "display_data"
    }
   ],
   "source": [
    "plt.plot(x_valid[(y_valid == 1), -2], x_valid[(y_valid == 1), -1], 'go', linewidth = 2)\n",
    "plt.plot(x_valid[(y_valid == 0), -2], x_valid[(y_valid == 0), -1], 'bx', linewidth = 2)\n",
    "plt.plot()\n",
    "\n",
    "theta_2 = gda.theta\n",
    "\n",
    "x1 = np.arange(min(x_train[:, -2]), max(x_train[:, -2]), 0.01)\n",
    "x2 = -(theta_2[0] / theta_2[2] + theta_2[1] / theta_2[2] * x1)\n",
    "plt.plot(x1, x2, c='black', label=\"GDA\", linewidth=2)\n",
    "\n",
    "# Add labels, legend and title\n",
    "plt.xlabel('x1')\n",
    "plt.ylabel('x2')\n",
    "plt.legend(loc=\"upper left\")"
   ]
  },
  {
   "cell_type": "code",
   "execution_count": 10,
   "id": "80d4b2e1",
   "metadata": {},
   "outputs": [
    {
     "name": "stdout",
     "output_type": "stream",
     "text": [
      "The accuracy on Validating set 1 of GDA is:  0.91\n"
     ]
    }
   ],
   "source": [
    "print(\"The accuracy on Validating set 1 of GDA is: \", np.mean(gda.predict(x_valid) == y_valid))"
   ]
  }
 ],
 "metadata": {
  "kernelspec": {
   "display_name": "Python 3 (ipykernel)",
   "language": "python",
   "name": "python3"
  },
  "language_info": {
   "codemirror_mode": {
    "name": "ipython",
    "version": 3
   },
   "file_extension": ".py",
   "mimetype": "text/x-python",
   "name": "python",
   "nbconvert_exporter": "python",
   "pygments_lexer": "ipython3",
   "version": "3.9.12"
  }
 },
 "nbformat": 4,
 "nbformat_minor": 5
}
